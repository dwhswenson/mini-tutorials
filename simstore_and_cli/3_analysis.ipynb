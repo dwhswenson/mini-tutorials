{
 "cells": [
  {
   "cell_type": "markdown",
   "metadata": {
    "slideshow": {
     "slide_type": "slide"
    }
   },
   "source": [
    "# Imports and set up for SimStore"
   ]
  },
  {
   "cell_type": "code",
   "execution_count": null,
   "metadata": {},
   "outputs": [],
   "source": [
    "%matplotlib inline\n",
    "import matplotlib.pyplot as plt\n",
    "import openpathsampling as paths\n",
    "from tqdm.auto import tqdm\n",
    "import numpy as np"
   ]
  },
  {
   "cell_type": "code",
   "execution_count": null,
   "metadata": {},
   "outputs": [],
   "source": [
    "from openpathsampling.experimental.storage import monkey_patch_all, Storage\n",
    "\n",
    "paths = monkey_patch_all(paths)"
   ]
  },
  {
   "cell_type": "code",
   "execution_count": null,
   "metadata": {},
   "outputs": [],
   "source": [
    "from openpathsampling.analysis import tis\n",
    "from openpathsampling.analysis.tis.core import steps_to_weighted_trajectories"
   ]
  },
  {
   "cell_type": "markdown",
   "metadata": {
    "slideshow": {
     "slide_type": "slide"
    }
   },
   "source": [
    "# Load things from storage"
   ]
  },
  {
   "cell_type": "code",
   "execution_count": null,
   "metadata": {},
   "outputs": [],
   "source": [
    "# remember that we stored these in the setup file\n",
    "# we could have appended these tags to the output, but didn't\n",
    "setup = Storage(\"setup.db\", mode='r')\n",
    "tau = setup.tags['tau']\n",
    "sigma_nm = setup.tags['sigma_nm']\n",
    "setup.close()"
   ]
  },
  {
   "cell_type": "code",
   "execution_count": null,
   "metadata": {},
   "outputs": [],
   "source": [
    "storage = Storage(\"tis.db\", mode='r')"
   ]
  },
  {
   "cell_type": "code",
   "execution_count": null,
   "metadata": {},
   "outputs": [],
   "source": [
    "scheme = storage.schemes['retis_scheme']\n",
    "network = storage.networks['tis']"
   ]
  },
  {
   "cell_type": "code",
   "execution_count": null,
   "metadata": {
    "slideshow": {
     "slide_type": "-"
    }
   },
   "outputs": [],
   "source": [
    "# we use these to extract info from TIS analysis\n",
    "condensed = storage.volumes['condensed']\n",
    "extended = storage.volumes['extended']"
   ]
  },
  {
   "cell_type": "markdown",
   "metadata": {
    "slideshow": {
     "slide_type": "slide"
    }
   },
   "source": [
    "# Move summary\n",
    "\n",
    "Check the acceptance of your movers -- problems here are important to catch quickly."
   ]
  },
  {
   "cell_type": "code",
   "execution_count": null,
   "metadata": {},
   "outputs": [],
   "source": [
    "scheme.move_summary(storage.steps)"
   ]
  },
  {
   "cell_type": "markdown",
   "metadata": {
    "slideshow": {
     "slide_type": "slide"
    }
   },
   "source": [
    "## Acceptance of movers by move group/type"
   ]
  },
  {
   "cell_type": "code",
   "execution_count": null,
   "metadata": {
    "slideshow": {
     "slide_type": "-"
    }
   },
   "outputs": [],
   "source": [
    "scheme.move_summary(movers='shooting')"
   ]
  },
  {
   "cell_type": "code",
   "execution_count": null,
   "metadata": {
    "slideshow": {
     "slide_type": "-"
    }
   },
   "outputs": [],
   "source": [
    "scheme.move_summary(movers='repex')"
   ]
  },
  {
   "cell_type": "code",
   "execution_count": null,
   "metadata": {
    "slideshow": {
     "slide_type": "-"
    }
   },
   "outputs": [],
   "source": [
    "scheme.move_summary(movers='pathreversal')"
   ]
  },
  {
   "cell_type": "markdown",
   "metadata": {
    "slideshow": {
     "slide_type": "subslide"
    }
   },
   "source": [
    "Here's how you can find the named of those \"groups\" of movers (this will depend on the move scheme used):"
   ]
  },
  {
   "cell_type": "code",
   "execution_count": null,
   "metadata": {
    "slideshow": {
     "slide_type": "-"
    }
   },
   "outputs": [],
   "source": [
    "scheme.movers.keys()"
   ]
  },
  {
   "cell_type": "markdown",
   "metadata": {
    "slideshow": {
     "slide_type": "subslide"
    }
   },
   "source": [
    "You can also get more details on some movers by passing the mover instance to `move_summary`:"
   ]
  },
  {
   "cell_type": "code",
   "execution_count": null,
   "metadata": {
    "slideshow": {
     "slide_type": "-"
    }
   },
   "outputs": [],
   "source": [
    "scheme.move_summary(movers=scheme.movers['shooting'][2])"
   ]
  },
  {
   "cell_type": "markdown",
   "metadata": {
    "slideshow": {
     "slide_type": "slide"
    }
   },
   "source": [
    "# Weighted trajectories\n",
    "\n",
    "TODO: write this"
   ]
  },
  {
   "cell_type": "markdown",
   "metadata": {
    "slideshow": {
     "slide_type": "skip"
    }
   },
   "source": [
    "Another object that we can build and then re-use is the `weighted_trajectories`. Over the course of Monte Carlo sampling, different samples accumulate different weights. Since path sampling will simultaneously sample multiple ensembles, we need to gather these weights for each ensemble.\n",
    "\n",
    "The `steps_to_weighted_trajectories` method calculates the weights for each trajectory in each ensemble. It returns a Python `dict` that maps ensembles to `Counter`s. A `Counter` is like a `dict` that maps a key (in this case a `Trajectory`) to the appropriate weights."
   ]
  },
  {
   "cell_type": "code",
   "execution_count": null,
   "metadata": {},
   "outputs": [],
   "source": [
    "weighted_trajs = steps_to_weighted_trajectories(tqdm(storage.steps),\n",
    "                                                ensembles=network.all_ensembles)"
   ]
  },
  {
   "cell_type": "markdown",
   "metadata": {
    "slideshow": {
     "slide_type": "slide"
    }
   },
   "source": [
    "# Path length distributions"
   ]
  },
  {
   "cell_type": "code",
   "execution_count": null,
   "metadata": {
    "slideshow": {
     "slide_type": "-"
    }
   },
   "outputs": [],
   "source": [
    "fig, axs = plt.subplots(2, 2)\n",
    "for ax, (ens, counter) in zip(axs.flatten(), weighted_trajs.items()):\n",
    "    lengths = [len(traj) for traj in counter.keys()]\n",
    "    weights = list(counter.values())\n",
    "    \n",
    "    if isinstance(ens, paths.TISEnsemble):    \n",
    "        # this is a trick to plot all TIS ensembles with the same bins\n",
    "        # here, I want 25 bins over the range of 0 to 50 frames\n",
    "        bins = np.linspace(0, 50, 25)\n",
    "    else:\n",
    "        # this is for the minus ensemble\n",
    "        bins = 25\n",
    "        \n",
    "    ax.hist(lengths, bins=bins, weights=weights)\n",
    "    ax.set_title(ens.name)\n",
    "    ax.set_xlabel('Path length (frames)')\n",
    "plt.subplots_adjust(hspace=0.75, wspace=0.3)\n",
    "plt.close(fig)  # so I only display in the next cell/slide"
   ]
  },
  {
   "cell_type": "code",
   "execution_count": null,
   "metadata": {
    "slideshow": {
     "slide_type": "subslide"
    }
   },
   "outputs": [],
   "source": [
    "fig"
   ]
  },
  {
   "cell_type": "markdown",
   "metadata": {
    "slideshow": {
     "slide_type": "slide"
    }
   },
   "source": [
    "# TIS Analysis\n",
    "\n",
    "This will give us the rates, but also important information about simulation convergence."
   ]
  },
  {
   "cell_type": "code",
   "execution_count": null,
   "metadata": {
    "slideshow": {
     "slide_type": "-"
    }
   },
   "outputs": [],
   "source": [
    "analysis = tis.StandardTISAnalysis(\n",
    "    network,\n",
    "    steps=storage.steps,\n",
    "    scheme=scheme,\n",
    "    max_lambda_calcs={t: {'bin_width': 0.02 * sigma_nm,\n",
    "                          'bin_range': (1.16 * sigma_nm, 1.7 * sigma_nm)}\n",
    "                      for t in network.sampling_transitions}\n",
    ")"
   ]
  },
  {
   "cell_type": "code",
   "execution_count": null,
   "metadata": {
    "slideshow": {
     "slide_type": "subslide"
    }
   },
   "outputs": [],
   "source": [
    "for ens in network.sampling_ensembles:\n",
    "    cp = analysis.crossing_probability(ens)\n",
    "    plt.plot(cp.x / sigma_nm, cp, label=ens.name)\n",
    "    \n",
    "tot_cp = analysis.total_crossing_probability[(condensed, extended)]\n",
    "plt.plot(tot_cp.x / sigma_nm , tot_cp, lw=2, color='k', label=\"Total crossing probability\")\n",
    "plt.yscale('log')\n",
    "plt.ylabel(\"Crossing probability\")\n",
    "plt.xlabel(\"r ($\\sigma$)\")\n",
    "plt.legend(loc=\"lower left\");\n",
    "fig = plt.gcf()\n",
    "plt.close(fig)"
   ]
  },
  {
   "cell_type": "code",
   "execution_count": null,
   "metadata": {
    "slideshow": {
     "slide_type": "subslide"
    }
   },
   "outputs": [],
   "source": [
    "fig"
   ]
  },
  {
   "cell_type": "markdown",
   "metadata": {
    "slideshow": {
     "slide_type": "slide"
    }
   },
   "source": [
    "# Rates\n",
    "\n",
    "TODO: write this"
   ]
  },
  {
   "cell_type": "markdown",
   "metadata": {
    "slideshow": {
     "slide_type": "subslide"
    }
   },
   "source": [
    "## Rate matrix"
   ]
  },
  {
   "cell_type": "code",
   "execution_count": null,
   "metadata": {
    "slideshow": {
     "slide_type": "-"
    }
   },
   "outputs": [],
   "source": [
    "rate_matrix = analysis.rate_matrix()\n",
    "rate_matrix.to_pandas()"
   ]
  },
  {
   "cell_type": "code",
   "execution_count": null,
   "metadata": {
    "slideshow": {
     "slide_type": "-"
    }
   },
   "outputs": [],
   "source": [
    "print(rate_matrix.to_pandas().to_latex())"
   ]
  },
  {
   "cell_type": "markdown",
   "metadata": {
    "slideshow": {
     "slide_type": "subslide"
    }
   },
   "source": [
    "## Individual rates"
   ]
  },
  {
   "cell_type": "code",
   "execution_count": null,
   "metadata": {
    "slideshow": {
     "slide_type": "-"
    }
   },
   "outputs": [],
   "source": [
    "rate = rate_matrix[condensed, extended]\n",
    "print(rate)"
   ]
  },
  {
   "cell_type": "code",
   "execution_count": null,
   "metadata": {
    "slideshow": {
     "slide_type": "-"
    }
   },
   "outputs": [],
   "source": [
    "# get this in units of tau^{-1} instead of ps^{-1}\n",
    "rate_matrix[(condensed, extended)] * tau"
   ]
  },
  {
   "cell_type": "markdown",
   "metadata": {
    "slideshow": {
     "slide_type": "subslide"
    }
   },
   "source": [
    "# Fluxes"
   ]
  },
  {
   "cell_type": "code",
   "execution_count": null,
   "metadata": {
    "slideshow": {
     "slide_type": "-"
    }
   },
   "outputs": [],
   "source": [
    "tis.flux_matrix_pd(analysis.flux_matrix)"
   ]
  },
  {
   "cell_type": "code",
   "execution_count": null,
   "metadata": {
    "slideshow": {
     "slide_type": "-"
    }
   },
   "outputs": [],
   "source": [
    "import pandas as pd\n",
    "df = pd.DataFrame(tis.flux_matrix_pd(analysis.flux_matrix))\n",
    "df"
   ]
  }
 ],
 "metadata": {
  "celltoolbar": "Slideshow",
  "kernelspec": {
   "display_name": "Python 3 (ipykernel)",
   "language": "python",
   "name": "python3"
  },
  "language_info": {
   "codemirror_mode": {
    "name": "ipython",
    "version": 3
   },
   "file_extension": ".py",
   "mimetype": "text/x-python",
   "name": "python",
   "nbconvert_exporter": "python",
   "pygments_lexer": "ipython3",
   "version": "3.9.6"
  },
  "toc": {
   "base_numbering": 1,
   "nav_menu": {},
   "number_sections": true,
   "sideBar": true,
   "skip_h1_title": true,
   "title_cell": "Table of Contents",
   "title_sidebar": "Contents",
   "toc_cell": false,
   "toc_position": {},
   "toc_section_display": true,
   "toc_window_display": false
  },
  "varInspector": {
   "cols": {
    "lenName": 16,
    "lenType": 16,
    "lenVar": 40
   },
   "kernels_config": {
    "python": {
     "delete_cmd_postfix": "",
     "delete_cmd_prefix": "del ",
     "library": "var_list.py",
     "varRefreshCmd": "print(var_dic_list())"
    },
    "r": {
     "delete_cmd_postfix": ") ",
     "delete_cmd_prefix": "rm(",
     "library": "var_list.r",
     "varRefreshCmd": "cat(var_dic_list()) "
    }
   },
   "types_to_exclude": [
    "module",
    "function",
    "builtin_function_or_method",
    "instance",
    "_Feature"
   ],
   "window_display": false
  }
 },
 "nbformat": 4,
 "nbformat_minor": 4
}
