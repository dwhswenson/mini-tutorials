{
 "cells": [
  {
   "cell_type": "code",
   "execution_count": null,
   "id": "02b83adf-a55e-4476-a90c-c550f4bc30a1",
   "metadata": {},
   "outputs": [],
   "source": [
    "import matplotlib\n",
    "import matplotlib.pyplot as plt\n",
    "import numpy as np"
   ]
  },
  {
   "cell_type": "code",
   "execution_count": null,
   "id": "58471950-1a6e-4260-bf40-2a0dcdd9a86b",
   "metadata": {},
   "outputs": [],
   "source": [
    "def dw(x, h, w, r0):\n",
    "    return h * (1 - ((x - r0 - w) / w)**2)**2"
   ]
  },
  {
   "cell_type": "code",
   "execution_count": null,
   "id": "5a3c9caa-5bd0-496a-a73a-16a30e15c106",
   "metadata": {},
   "outputs": [],
   "source": [
    "r0 = 2**(1/6)\n",
    "h = 6.0\n",
    "w = 0.25"
   ]
  },
  {
   "cell_type": "code",
   "execution_count": null,
   "id": "c1c4f03f-ba88-4bb1-bc79-bbb825c93b5e",
   "metadata": {},
   "outputs": [],
   "source": [
    "xvals = np.linspace(0.9, 1.8, 100)"
   ]
  },
  {
   "cell_type": "code",
   "execution_count": null,
   "id": "d8e5287e-a97d-4191-a4cf-a6c0c31555d1",
   "metadata": {},
   "outputs": [],
   "source": [
    "yvals = dw(xvals, h, w, r0)"
   ]
  },
  {
   "cell_type": "code",
   "execution_count": null,
   "id": "70ccd22c-1e3e-488f-942e-b5d4a0444b12",
   "metadata": {},
   "outputs": [],
   "source": [
    "matplotlib.rc('font', size=20)\n",
    "\n",
    "\n",
    "plt.plot(xvals, yvals, lw=2, c='k', label='$V_{dw}(r)$')\n",
    "plt.ylim(None, 15.0)\n",
    "plt.xlim(0.9, 1.9)\n",
    "for interface in [1.20, 1.26, 1.32]:\n",
    "    plt.axvline(interface, lw=0.75, c='grey')\n",
    "plt.axvline(-10, lw=0.75, c='grey', label='interfaces')\n",
    "plt.axvline(r0, color='C3')\n",
    "plt.text(r0 + 0.02, 13, '$r_0$', color='C3')\n",
    "plt.plot([r0, r0 + w], [h, h], c='C0')\n",
    "plt.text(1.21, h + 0.5, '$w$', color='C0')\n",
    "plt.plot([r0 + w, r0 + w], [0, h], c='C2')\n",
    "plt.text(r0 + w + 0.02, 0.4 * h, '$h$', c='C2')\n",
    "plt.xlabel('$r$ ($\\sigma$)')\n",
    "plt.ylabel('Potential energy ($k_B T$)')\n",
    "plt.legend(loc='upper right')\n",
    "plt.tight_layout()\n",
    "plt.savefig('dw_pes.pdf')\n",
    "plt.savefig('double_well.png')"
   ]
  }
 ],
 "metadata": {
  "kernelspec": {
   "display_name": "Python 3",
   "language": "python",
   "name": "python3"
  },
  "language_info": {
   "codemirror_mode": {
    "name": "ipython",
    "version": 3
   },
   "file_extension": ".py",
   "mimetype": "text/x-python",
   "name": "python",
   "nbconvert_exporter": "python",
   "pygments_lexer": "ipython3",
   "version": "3.7.10"
  }
 },
 "nbformat": 4,
 "nbformat_minor": 5
}
